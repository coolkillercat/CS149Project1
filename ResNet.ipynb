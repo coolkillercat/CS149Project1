{
 "cells": [
  {
   "cell_type": "code",
   "execution_count": 2,
   "metadata": {
    "colab": {
     "base_uri": "https://localhost:8080/"
    },
    "id": "_RfQjfEn0lKk",
    "outputId": "fd22d20f-fdd7-4662-d208-b241e5ae778d"
   },
   "outputs": [
    {
     "name": "stdout",
     "output_type": "stream",
     "text": [
      "1.7.1\n"
     ]
    }
   ],
   "source": [
    "import numpy as np\n",
    "import pandas as pd\n",
    "from PIL import Image\n",
    "from skimage import io\n",
    "import torch\n",
    "print(torch.__version__)\n",
    "import torch.nn as NN\n",
    "import torch.nn.functional as F\n",
    "import torch.optim as optim\n",
    "import torchvision\n",
    "import torchvision.transforms.functional as TF\n",
    "from torch.utils.data import Dataset, DataLoader\n",
    "import torchvision.transforms as transforms\n",
    "from torchvision import models\n",
    "import argparse\n",
    "import time\n",
    "import os\n",
    "from tqdm import tqdm_notebook as tqdm"
   ]
  },
  {
   "cell_type": "code",
   "execution_count": 7,
   "metadata": {
    "id": "55vt3V8H0lH9"
   },
   "outputs": [],
   "source": [
    "class CSVDataset(Dataset):\n",
    "  def __init__(self, df, path, transform=None, balance = True):\n",
    "      # loads csv file as a dataframe object\n",
    "      self.df = df\n",
    "      self.transform = transform\n",
    "      self.path = path\n",
    "      if balance:\n",
    "            df_pos = df[df['class'] > 0]\n",
    "            df_neg = df[df['class'] == 0]\n",
    "            len_pos = len(df_pos)\n",
    "            len_neg = len(df_neg)\n",
    "            df_pos_new = df_pos.sample(n = len_neg, axis = 0, replace = True)\n",
    "            self.df = pd.concat([df_pos_new, df_neg], axis = 0)\n",
    "\n",
    "  def __len__(self):\n",
    "      return len(self.df)\n",
    "\n",
    "  def __getitem__(self, index):\n",
    "      # load label\n",
    "      lbl = self.df.iloc[index]\n",
    "      img_path = lbl['filename']\n",
    "      # load class\n",
    "      if lbl['class'] != 0:\n",
    "        img_class = 1\n",
    "      else:\n",
    "        img_class = 0\n",
    "\n",
    "      # convert path to load images on HPCC\n",
    "      img_path = self.path + img_path\n",
    "      img = Image.open(img_path).convert('RGB')\n",
    "      img = img.resize((224,224))\n",
    "      \n",
    "      if self.transform:\n",
    "          img = self.transform(img)\n",
    "\n",
    "      # img = np.transpose(img, (2,0,1))\n",
    "\n",
    "      # return image and label\n",
    "      # return img, torch.from_numpy(np.array([img_class])).unsqueeze(0).long()\n",
    "      return img, img_class\n",
    "      # return img, img_class\n"
   ]
  },
  {
   "cell_type": "code",
   "execution_count": 9,
   "metadata": {
    "id": "cV8Ylf9z0lFX"
   },
   "outputs": [],
   "source": [
    "df=pd.read_csv(\"coordinates_train.csv\")\n",
    "df=df[0:1600].copy()\n",
    "testTransform = transforms.Compose([\n",
    "    transforms.ToTensor()\n",
    "])\n",
    "testDataset = CSVDataset(df, 'E:/Brandeis/CS149B/Project1/COSI-149B/project1/', testTransform)"
   ]
  },
  {
   "cell_type": "code",
   "execution_count": 4,
   "metadata": {
    "colab": {
     "base_uri": "https://localhost:8080/"
    },
    "id": "B3lfs3HG88Qq",
    "outputId": "3619181f-95ce-4be5-b2a4-0d33d85f9162"
   },
   "outputs": [
    {
     "data": {
      "text/plain": [
       "False"
      ]
     },
     "execution_count": 4,
     "metadata": {},
     "output_type": "execute_result"
    }
   ],
   "source": [
    "os.path.exists(\"/project1/raw/P_NCALM_5_00334.tif\")"
   ]
  },
  {
   "cell_type": "code",
   "execution_count": 10,
   "metadata": {
    "colab": {
     "base_uri": "https://localhost:8080/"
    },
    "id": "ailJOXJS10oq",
    "outputId": "91194de2-ac48-474e-d395-52d66b8ac491"
   },
   "outputs": [
    {
     "name": "stdout",
     "output_type": "stream",
     "text": [
      "torch.Size([3, 224, 224])\n"
     ]
    }
   ],
   "source": [
    "for img, _ in testDataset:\n",
    "  print(img.size())\n",
    "  break;"
   ]
  },
  {
   "cell_type": "code",
   "execution_count": 6,
   "metadata": {
    "id": "yStJbwKc0lCv"
   },
   "outputs": [],
   "source": [
    "def getMeanStd(dataset):\n",
    "  mean = [0,0,0]\n",
    "  std = [0,0,0]\n",
    "  num = len(dataset)\n",
    "  for k in tqdm(range(num)):\n",
    "    img = dataset[k][0]\n",
    "    for i in range(3):\n",
    "      mean[i] += img[i, :, :].mean()\n",
    "      std[i] += img[i, :, :].std()\n",
    "  \n",
    "  mean = np.asarray(mean) / num\n",
    "  std = np.asarray(std) / num\n",
    "  \n",
    "  print(\"normMean = {}\".format(mean))\n",
    "  print(\"normstdevs = {}\".format(std))\n",
    "  return mean, std"
   ]
  },
  {
   "cell_type": "code",
   "execution_count": null,
   "metadata": {
    "colab": {
     "base_uri": "https://localhost:8080/",
     "height": 157,
     "referenced_widgets": [
      "e36b3826bf1c4e1ca791a50b5e850e98",
      "1c82bb99588643fcbb136678e8a0f4b1",
      "1eec29bbcca7496e8aff03f91b668bf3",
      "7a8cc711717f4223b7fd860ce0657984",
      "6c47394777b4483992634e11bd7d4f83",
      "c6b90ae6c1e447b7bbd981cb24144f40",
      "25562dd651ff4518ba1e8d42ff6a58aa",
      "d454004be9964b53ae9150736df22c06"
     ]
    },
    "id": "k8rlj0CR0lAM",
    "outputId": "1bce6fea-b16b-443a-c4a0-dc002abc0a0e"
   },
   "outputs": [
    {
     "name": "stderr",
     "output_type": "stream",
     "text": [
      "/usr/local/lib/python3.7/dist-packages/ipykernel_launcher.py:5: TqdmDeprecationWarning: This function will be removed in tqdm==5.0.0\n",
      "Please use `tqdm.notebook.tqdm` instead of `tqdm.tqdm_notebook`\n",
      "  \"\"\"\n"
     ]
    },
    {
     "data": {
      "application/vnd.jupyter.widget-view+json": {
       "model_id": "e36b3826bf1c4e1ca791a50b5e850e98",
       "version_major": 2,
       "version_minor": 0
      },
      "text/plain": [
       "HBox(children=(FloatProgress(value=0.0, max=50220.0), HTML(value='')))"
      ]
     },
     "metadata": {
      "tags": []
     },
     "output_type": "display_data"
    },
    {
     "name": "stdout",
     "output_type": "stream",
     "text": [
      "\n",
      "normMean = [0.7192409 0.7192409 0.7192409]\n",
      "normstdevs = [0.01884892 0.01884892 0.01884892]\n"
     ]
    }
   ],
   "source": [
    "mean, std = getMeanStd(testDataset)"
   ]
  },
  {
   "cell_type": "markdown",
   "metadata": {
    "id": "12vACrXSVDLF"
   },
   "source": [
    "\n",
    "normMean = [0.7192409 0.7192409 0.7192409]\n",
    "normstdevs = [0.01884892 0.01884892 0.01884892]"
   ]
  },
  {
   "cell_type": "code",
   "execution_count": 12,
   "metadata": {
    "id": "H2AQucC90k9s"
   },
   "outputs": [],
   "source": [
    "# use all\n",
    "df_all = df.copy()\n",
    "#shuffle data\n",
    "# df_all = df_all.sample(frac=1).reset_index(drop=True)\n",
    "# df_all.to_csv('data.csv')"
   ]
  },
  {
   "cell_type": "code",
   "execution_count": 13,
   "metadata": {
    "id": "vZqkmLIs0k7R"
   },
   "outputs": [],
   "source": [
    "# train using 90% data, rest 10% for test\n",
    "size = len(df_all)\n",
    "div = int(size/10*9)\n",
    "df_train = df_all[0:div]\n",
    "df_test = df_all[div:]"
   ]
  },
  {
   "cell_type": "code",
   "execution_count": 19,
   "metadata": {
    "id": "MW2B6Dje0xMH"
   },
   "outputs": [],
   "source": [
    "mean = (0.7192409, 0.7192409, 0.7192409)\n",
    "std = (0.01884892, 0.01884892, 0.01884892)\n",
    "transform_set = [transforms.Resize(100),\n",
    "                transforms.CenterCrop(100),\n",
    "                transforms.RandomRotation(degrees = 180)]\n",
    "trainTransform = transforms.Compose([\n",
    "    transforms.RandomChoice(transform_set),\n",
    "    transforms.ToTensor(),\n",
    "    transforms.Normalize(mean, std)\n",
    "])\n",
    "testTransform = transforms.Compose([\n",
    "    transforms.ToTensor(),\n",
    "    transforms.Normalize(mean,std)\n",
    "])\n",
    "trainSet = CSVDataset(df_train, 'E:/Brandeis/CS149B/Project1/COSI-149B/project1/', trainTransform)\n",
    "testSet = CSVDataset(df_test, 'E:/Brandeis/CS149B/Project1/COSI-149B/project1/', testTransform, balance = False)"
   ]
  },
  {
   "cell_type": "code",
   "execution_count": 17,
   "metadata": {
    "id": "nJzz0IVW0xJm"
   },
   "outputs": [
    {
     "name": "stdout",
     "output_type": "stream",
     "text": [
      "pos: 1012 neg: 1012\n"
     ]
    }
   ],
   "source": [
    "train_batchsize = 64\n",
    "test_batchsize = 10\n",
    "trainEpochs = 500\n",
    "learningRate = 0.0001\n",
    "sgdmomentum = 0.9\n",
    "betas = (0.9, 0.999)\n",
    "eps = 1e-08\n",
    "weight_decay=0\n",
    "trainLoader = DataLoader(trainSet, batch_size=train_batchsize, shuffle=True)\n",
    "testLoader = DataLoader(testSet, batch_size=test_batchsize, shuffle=False)\n",
    "pos_num = 0\n",
    "neg_num = 0\n",
    "for _, (data, target) in enumerate(trainLoader):\n",
    "    for i in range(len(target)):\n",
    "        if target[i] == 1:\n",
    "            pos_num = pos_num + 1;\n",
    "        else:\n",
    "            neg_num = neg_num + 1;\n",
    "print('pos: {} neg: {}'.format(pos_num, neg_num))"
   ]
  },
  {
   "cell_type": "code",
   "execution_count": 11,
   "metadata": {
    "colab": {
     "base_uri": "https://localhost:8080/"
    },
    "id": "yjNd_CAZ0xEo",
    "outputId": "3979c0f3-9ae2-4b65-fb92-dd9319d532bf"
   },
   "outputs": [],
   "source": [
    "use_gpu = torch.cuda.is_available()\n",
    "use_gpu = False"
   ]
  },
  {
   "cell_type": "code",
   "execution_count": 12,
   "metadata": {
    "colab": {
     "base_uri": "https://localhost:8080/"
    },
    "id": "vVmEN26KGCBq",
    "outputId": "ae3f81fd-6882-4918-f7bb-9c3345f48cfe"
   },
   "outputs": [
    {
     "name": "stdout",
     "output_type": "stream",
     "text": [
      "Tue Mar 23 18:02:05 2021       \n",
      "+-----------------------------------------------------------------------------+\n",
      "| NVIDIA-SMI 456.38       Driver Version: 456.38       CUDA Version: 11.1     |\n",
      "|-------------------------------+----------------------+----------------------+\n",
      "| GPU  Name            TCC/WDDM | Bus-Id        Disp.A | Volatile Uncorr. ECC |\n",
      "| Fan  Temp  Perf  Pwr:Usage/Cap|         Memory-Usage | GPU-Util  Compute M. |\n",
      "|===============================+======================+======================|\n",
      "|   0  GeForce GTX 960M   WDDM  | 00000000:01:00.0 Off |                  N/A |\n",
      "| N/A   29C    P8    N/A /  N/A |     40MiB /  4096MiB |      0%      Default |\n",
      "+-------------------------------+----------------------+----------------------+\n",
      "                                                                               \n",
      "+-----------------------------------------------------------------------------+\n",
      "| Processes:                                                                  |\n",
      "|  GPU   GI   CI        PID   Type   Process name                  GPU Memory |\n",
      "|        ID   ID                                                   Usage      |\n",
      "|=============================================================================|\n",
      "|  No running processes found                                                 |\n",
      "+-----------------------------------------------------------------------------+\n"
     ]
    }
   ],
   "source": [
    "gpu_info = !nvidia-smi\n",
    "gpu_info = '\\n'.join(gpu_info)\n",
    "if gpu_info.find('failed') >= 0:\n",
    "  print('Select the Runtime > \"Change runtime type\" menu to enable a GPU accelerator, ')\n",
    "  print('and then re-execute this cell.')\n",
    "else:\n",
    "  print(gpu_info)"
   ]
  },
  {
   "cell_type": "code",
   "execution_count": null,
   "metadata": {},
   "outputs": [],
   "source": [
    "class FocalLoss(NN.Module):\n",
    "    def __init__(self, alpha=1, gamma=2, logits=False, reduce=True):\n",
    "        super(FocalLoss, self).__init__()\n",
    "        self.alpha = alpha\n",
    "        self.gamma = gamma\n",
    "        self.logits = logits\n",
    "        self.reduce = reduce\n",
    "\n",
    "    def forward(self, inputs, targets):\n",
    "        if self.logits:\n",
    "            BCE_loss = F.binary_cross_entropy_with_logits(inputs, targets, reduce=False)\n",
    "        else:\n",
    "            BCE_loss = F.binary_cross_entropy(inputs, targets, reduce=False)\n",
    "        pt = torch.exp(-BCE_loss)\n",
    "        F_loss = self.alpha * (1-pt)**self.gamma * BCE_loss\n",
    "\n",
    "        if self.reduce:\n",
    "            return torch.mean(F_loss)\n",
    "        else:\n",
    "            return F_loss"
   ]
  },
  {
   "cell_type": "code",
   "execution_count": 13,
   "metadata": {
    "id": "u24d6Cz50xCG"
   },
   "outputs": [],
   "source": [
    "# Define the model\n",
    "class Net(NN.Module):\n",
    "    def __init__(self, num_classes=2):\n",
    "      super(Net, self).__init__()\n",
    "      net = models.vgg16_bn(pretrained=False) \n",
    "      net.classifier = NN.Sequential()\t\n",
    "      self.features = net\t\t\n",
    "      self.classifier = NN.Sequential(  \n",
    "              NN.Linear(512 * 7 * 7, 4096),\n",
    "              NN.ReLU(True),\n",
    "              NN.Dropout(p=0.5),\n",
    "              NN.Linear(4096, 4096),\n",
    "              NN.ReLU(True),\n",
    "              NN.Dropout(p=0.5),\n",
    "              NN.Linear(4096, num_classes),\n",
    "      )\n",
    "\n",
    "    def forward(self, x):\n",
    "      x = self.features(x)\n",
    "      x = x.view(x.size(0), -1)\n",
    "      x = self.classifier(x)\n",
    "      return F.log_softmax(x, dim=1)\n",
    "\n",
    "def train(model, train_loader, optimizer, epoch, print_batch = False):\n",
    "    model.train()\n",
    "    epoch_loss = 0\n",
    "    for batch_idx, (data, target) in enumerate(train_loader):\n",
    "        criterion = FocalLoss(alpha = 0.25)\n",
    "        if (use_gpu):\n",
    "            model = model.cuda()\n",
    "            data = data.cuda()\n",
    "            target = target.cuda()\n",
    "            criterion = criterion.cuda()\n",
    "        optimizer.zero_grad()\n",
    "        #output = model(torch.autograd.Variable(data))\n",
    "        output = model( data )\n",
    "        loss = criterion(output, target.long())\n",
    "        loss.backward()\n",
    "        epoch_loss = epoch_loss + loss.item()\n",
    "        optimizer.step()\n",
    "        if batch_idx % 100 == 0 and print_batch:\n",
    "            print('Train Epoch: {} [{}/{} ({:.0f}%)]\\tLoss: {:.6f}'.format(\n",
    "                epoch+1, batch_idx * len(data), len(train_loader.dataset),\n",
    "                100. * batch_idx / len(train_loader), loss.item()))\n",
    "            # print(output)\n",
    "    epoch_loss = (1. * epoch_loss) / len(train_loader)\n",
    "    print('Train Epoch: {}\\tAverageLoss: {:.6f}'.format(\n",
    "    epoch+1, epoch_loss))\n",
    "\n",
    "def test(model, test_loader):\n",
    "    model.eval()\n",
    "    test_loss = 0\n",
    "    correct = 0\n",
    "\n",
    "    totalT = 0\n",
    "    totalF = 0\n",
    "    correctT = 0\n",
    "    correctF = 0\n",
    "\n",
    "    with torch.no_grad():\n",
    "        for data, target in test_loader:\n",
    "            if (use_gpu):\n",
    "                model = model.cuda()\n",
    "                data = data.cuda()\n",
    "                target = target.cuda()\n",
    "            output = model(data)\n",
    "            test_loss += F.cross_entropy(output, target, reduction='sum').item() # sum up batch loss\n",
    "            pred = output.argmax(dim=1, keepdim=True) # get the index of the max log-probability\n",
    "            correct += pred.eq(target.view_as(pred)).sum().item()\n",
    "            for i in range(len(target)):\n",
    "              if target[i] == 1:\n",
    "                totalT = totalT+1\n",
    "                if target[i] == pred[i]:\n",
    "                  correctT = correctT+1\n",
    "              else:\n",
    "                totalF = totalF+1\n",
    "                if target[i] == pred[i]:\n",
    "                  correctF = correctF+1\n",
    "\n",
    "\n",
    "    test_loss /= len(test_loader.dataset)\n",
    "    recall = 1.* correctT / totalT\n",
    "    precision = 1. * correctT / (totalF - correctF)\n",
    "    F1 = 2*recall*precision/(recall+precision)\n",
    "\n",
    "    print('\\nTest set: Average loss: {:.6f}, Accuracy: {}/{} ({:.0f}%)'.format(\n",
    "        test_loss, correct, len(test_loader.dataset),\n",
    "        100. * correct / len(test_loader.dataset)))\n",
    "    print('False: {}/{} True: {}/{}\\n'.format(\n",
    "        correctF, totalF, correctT, totalT\n",
    "    ))\n",
    "    print('recall: {}\\tprecision: {}\\tF1: {}\\n'.format(recall, precision, F1))\n",
    "    summary = {}\n",
    "    summary['recall'] = recall\n",
    "    summary['precision'] = precision\n",
    "    summary['accuracy'] = 1. * correct / len(test_loader.dataset)\n",
    "    summary['F1'] = F1\n",
    "                                             \n",
    "    return test_loss, summary"
   ]
  },
  {
   "cell_type": "code",
   "execution_count": 15,
   "metadata": {},
   "outputs": [],
   "source": [
    "#ResNet:https://blog.csdn.net/winycg/article/details/86709991\n",
    "class BasicBlock(NN.Module):\n",
    "    expansion = 1\n",
    "\n",
    "    def __init__(self, in_planes, planes, stride=1):\n",
    "        super(BasicBlock, self).__init__()\n",
    "        self.conv1 = NN.Conv2d(in_planes, planes, kernel_size=3,\n",
    "                               stride=stride, padding=1, bias=False)\n",
    "        self.bn1 = NN.BatchNorm2d(planes)\n",
    "        self.conv2 = NN.Conv2d(planes, planes, kernel_size=3,\n",
    "                               stride=1, padding=1, bias=False)\n",
    "        self.bn2 = NN.BatchNorm2d(planes)\n",
    "        self.shortcut = NN.Sequential()\n",
    "        if stride != 1 or in_planes != self.expansion*planes:\n",
    "            self.shortcut = NN.Sequential(\n",
    "                NN.Conv2d(in_planes, self.expansion*planes,\n",
    "                          kernel_size=1, stride=stride, bias=False),\n",
    "                NN.BatchNorm2d(self.expansion*planes)\n",
    "            )\n",
    "\n",
    "    def forward(self, x):\n",
    "        out = F.relu(self.bn1(self.conv1(x)))\n",
    "        out = self.bn2(self.conv2(out))\n",
    "        out += self.shortcut(x)\n",
    "        out = F.relu(out)\n",
    "        return out\n",
    "\n",
    "\n",
    "class Bottleneck(NN.Module):\n",
    "    expansion = 4\n",
    "\n",
    "    def __init__(self, in_planes, planes, stride=1):\n",
    "        super(Bottleneck, self).__init__()\n",
    "        self.conv1 = NN.Conv2d(in_planes, planes, kernel_size=1, bias=False)\n",
    "        self.bn1 = NN.BatchNorm2d(planes)\n",
    "        self.conv2 = NN.Conv2d(planes, planes, kernel_size=3,\n",
    "                               stride=stride, padding=1, bias=False)\n",
    "        self.bn2 = NN.BatchNorm2d(planes)\n",
    "        self.conv3 = NN.Conv2d(planes, self.expansion*planes,\n",
    "                               kernel_size=1, bias=False)\n",
    "        self.bn3 = NN.BatchNorm2d(self.expansion*planes)\n",
    "\n",
    "        self.shortcut = NN.Sequential()\n",
    "        if stride != 1 or in_planes != self.expansion*planes:\n",
    "            self.shortcut = NN.Sequential(\n",
    "                NN.Conv2d(in_planes, self.expansion*planes,\n",
    "                          kernel_size=1, stride=stride, bias=False),\n",
    "                NN.BatchNorm2d(self.expansion*planes)\n",
    "            )\n",
    "\n",
    "    def forward(self, x):\n",
    "        out = F.relu(self.bn1(self.conv1(x)))\n",
    "        out = F.relu(self.bn2(self.conv2(out)))\n",
    "        out = self.bn3(self.conv3(out))\n",
    "        out += self.shortcut(x)\n",
    "        out = F.relu(out)\n",
    "        return out\n",
    "\n",
    "\n",
    "class ResNet(NN.Module):\n",
    "    def __init__(self, block, num_blocks, num_classes=10):\n",
    "        super(ResNet, self).__init__()\n",
    "        self.in_planes = 64\n",
    "\n",
    "        self.conv1 = NN.Conv2d(3, 64, kernel_size=3,\n",
    "                               stride=1, padding=1, bias=False)\n",
    "        self.bn1 = NN.BatchNorm2d(64)\n",
    "        \n",
    "        self.layer1 = self._make_layer(block, 64, num_blocks[0], stride=1)\n",
    "        self.layer2 = self._make_layer(block, 128, num_blocks[1], stride=2)\n",
    "        self.layer3 = self._make_layer(block, 256, num_blocks[2], stride=2)\n",
    "        self.layer4 = self._make_layer(block, 512, num_blocks[3], stride=2)\n",
    "        self.linear = NN.Linear(512*block.expansion, num_classes)\n",
    "\n",
    "    def _make_layer(self, block, planes, num_blocks, stride):\n",
    "        strides = [stride] + [1]*(num_blocks-1)\n",
    "        layers = []\n",
    "        for stride in strides:\n",
    "            layers.append(block(self.in_planes, planes, stride))\n",
    "            self.in_planes = planes * block.expansion\n",
    "        return NN.Sequential(*layers)\n",
    "\n",
    "    def forward(self, x):\n",
    "        out = F.relu(self.bn1(self.conv1(x)))\n",
    "        out = self.layer1(out)\n",
    "        out = self.layer2(out)\n",
    "        out = self.layer3(out)\n",
    "        out = self.layer4(out)\n",
    "        out = F.avg_pool2d(out, 4)\n",
    "        out = out.view(out.size(0), -1)\n",
    "        out = self.linear(out)\n",
    "        return out\n",
    "\n",
    "\n",
    "def ResNet18():\n",
    "    return ResNet(BasicBlock, [2,2,2,2], num_classes = 2)\n",
    "\n",
    "def ResNet34():\n",
    "    return ResNet(BasicBlock, [3,4,6,3], num_classes = 2)\n",
    "\n",
    "def ResNet50():\n",
    "    return ResNet(Bottleneck, [3,4,6,3], num_classes = 2)\n",
    "\n",
    "def ResNet101():\n",
    "    return ResNet(Bottleneck, [3,4,23,3], num_classes = 2)\n",
    "\n",
    "def ResNet152():\n",
    "    return ResNet(Bottleneck, [3,8,36,3], num_classes = 2)"
   ]
  },
  {
   "cell_type": "code",
   "execution_count": 16,
   "metadata": {
    "colab": {
     "base_uri": "https://localhost:8080/",
     "height": 1000
    },
    "id": "N7IB99JI0w_p",
    "outputId": "50a84098-73a9-4532-f3ee-0adbfec7c2b9"
   },
   "outputs": [
    {
     "name": "stderr",
     "output_type": "stream",
     "text": [
      "ERROR:root:Internal Python error in the inspect module.\n",
      "Below is the traceback from this internal error.\n",
      "\n",
      "\n",
      "KeyboardInterrupt\n",
      "\n"
     ]
    }
   ],
   "source": [
    "curr = time.strftime(\"%m%d%H\", time.localtime())\n",
    "# Train and test\n",
    "model = ResNet18()\n",
    "# model.load_state_dict(torch.load(\"cnn_vgg_40_4.pt\"))\n",
    "# optimizer = optim.SGD(model.parameters(), lr=learningRate, momentum = sgdmomentum)\n",
    "optimizer = optim.Adam(model.parameters(), lr=learningRate, betas=betas, eps=eps, weight_decay=weight_decay)\n",
    "# optimizer = optim.Adadelta(model.parameters())\n",
    "scheduler = torch.optim.lr_scheduler.ReduceLROnPlateau(optimizer, mode='min', factor=0.3, patience=10, verbose=True, threshold=0.001, threshold_mode='rel', cooldown=0, min_lr=0, eps=1e-08)\n",
    "\n",
    "for epoch in range(trainEpochs):\n",
    "    train(model, trainLoader, optimizer, epoch)\n",
    "    loss, _ = test(model, testLoader)\n",
    "    scheduler.step(loss)\n",
    "    torch.save(model.state_dict(),\"ResNet18\" + curr + \".pt\")"
   ]
  },
  {
   "cell_type": "code",
   "execution_count": 57,
   "metadata": {
    "id": "ds_LF_wp0w9w"
   },
   "outputs": [],
   "source": [
    "torch.cuda.empty_cache()"
   ]
  },
  {
   "cell_type": "code",
   "execution_count": null,
   "metadata": {
    "colab": {
     "base_uri": "https://localhost:8080/"
    },
    "id": "_iucUCCl0w65",
    "outputId": "5b794e5e-2bac-4814-887f-5c242855088f"
   },
   "outputs": [
    {
     "name": "stdout",
     "output_type": "stream",
     "text": [
      "0\n",
      "1\n",
      "2\n",
      "Epoch     3: reducing learning rate of group 0 to 5.0000e-05.\n",
      "3\n",
      "4\n",
      "Epoch     5: reducing learning rate of group 0 to 2.5000e-05.\n",
      "5\n",
      "6\n",
      "Epoch     7: reducing learning rate of group 0 to 1.2500e-05.\n",
      "7\n",
      "8\n",
      "Epoch     9: reducing learning rate of group 0 to 6.2500e-06.\n",
      "9\n"
     ]
    }
   ],
   "source": [
    "optimizer = optim.Adam(model.parameters(), lr=learningRate, betas=betas, eps=eps, weight_decay=weight_decay)\n",
    "# optimizer = optim.Adadelta(model.parameters())\n",
    "scheduler = torch.optim.lr_scheduler.ReduceLROnPlateau(optimizer, mode='min', factor=0.5, patience=1, verbose=True, threshold=1, threshold_mode='abs', cooldown=0, min_lr=0, eps=1e-08)\n",
    "\n",
    "loss = 1\n",
    "for i in range(10):\n",
    "  print(i)\n",
    "  scheduler.step(loss)"
   ]
  },
  {
   "cell_type": "code",
   "execution_count": null,
   "metadata": {
    "id": "_hwUGuiO0w4j"
   },
   "outputs": [],
   "source": []
  },
  {
   "cell_type": "code",
   "execution_count": null,
   "metadata": {
    "id": "C4NkmIiLVB3t"
   },
   "outputs": [],
   "source": []
  }
 ],
 "metadata": {
  "accelerator": "GPU",
  "colab": {
   "collapsed_sections": [],
   "name": "model_vgg16.ipynb",
   "provenance": []
  },
  "kernelspec": {
   "display_name": "Python 3",
   "language": "python",
   "name": "python3"
  },
  "language_info": {
   "codemirror_mode": {
    "name": "ipython",
    "version": 3
   },
   "file_extension": ".py",
   "mimetype": "text/x-python",
   "name": "python",
   "nbconvert_exporter": "python",
   "pygments_lexer": "ipython3",
   "version": "3.8.5"
  },
  "widgets": {
   "application/vnd.jupyter.widget-state+json": {
    "1c82bb99588643fcbb136678e8a0f4b1": {
     "model_module": "@jupyter-widgets/base",
     "model_name": "LayoutModel",
     "state": {
      "_model_module": "@jupyter-widgets/base",
      "_model_module_version": "1.2.0",
      "_model_name": "LayoutModel",
      "_view_count": null,
      "_view_module": "@jupyter-widgets/base",
      "_view_module_version": "1.2.0",
      "_view_name": "LayoutView",
      "align_content": null,
      "align_items": null,
      "align_self": null,
      "border": null,
      "bottom": null,
      "display": null,
      "flex": null,
      "flex_flow": null,
      "grid_area": null,
      "grid_auto_columns": null,
      "grid_auto_flow": null,
      "grid_auto_rows": null,
      "grid_column": null,
      "grid_gap": null,
      "grid_row": null,
      "grid_template_areas": null,
      "grid_template_columns": null,
      "grid_template_rows": null,
      "height": null,
      "justify_content": null,
      "justify_items": null,
      "left": null,
      "margin": null,
      "max_height": null,
      "max_width": null,
      "min_height": null,
      "min_width": null,
      "object_fit": null,
      "object_position": null,
      "order": null,
      "overflow": null,
      "overflow_x": null,
      "overflow_y": null,
      "padding": null,
      "right": null,
      "top": null,
      "visibility": null,
      "width": null
     }
    },
    "1eec29bbcca7496e8aff03f91b668bf3": {
     "model_module": "@jupyter-widgets/controls",
     "model_name": "FloatProgressModel",
     "state": {
      "_dom_classes": [],
      "_model_module": "@jupyter-widgets/controls",
      "_model_module_version": "1.5.0",
      "_model_name": "FloatProgressModel",
      "_view_count": null,
      "_view_module": "@jupyter-widgets/controls",
      "_view_module_version": "1.5.0",
      "_view_name": "ProgressView",
      "bar_style": "success",
      "description": "100%",
      "description_tooltip": null,
      "layout": "IPY_MODEL_c6b90ae6c1e447b7bbd981cb24144f40",
      "max": 50220,
      "min": 0,
      "orientation": "horizontal",
      "style": "IPY_MODEL_6c47394777b4483992634e11bd7d4f83",
      "value": 50220
     }
    },
    "25562dd651ff4518ba1e8d42ff6a58aa": {
     "model_module": "@jupyter-widgets/controls",
     "model_name": "DescriptionStyleModel",
     "state": {
      "_model_module": "@jupyter-widgets/controls",
      "_model_module_version": "1.5.0",
      "_model_name": "DescriptionStyleModel",
      "_view_count": null,
      "_view_module": "@jupyter-widgets/base",
      "_view_module_version": "1.2.0",
      "_view_name": "StyleView",
      "description_width": ""
     }
    },
    "6c47394777b4483992634e11bd7d4f83": {
     "model_module": "@jupyter-widgets/controls",
     "model_name": "ProgressStyleModel",
     "state": {
      "_model_module": "@jupyter-widgets/controls",
      "_model_module_version": "1.5.0",
      "_model_name": "ProgressStyleModel",
      "_view_count": null,
      "_view_module": "@jupyter-widgets/base",
      "_view_module_version": "1.2.0",
      "_view_name": "StyleView",
      "bar_color": null,
      "description_width": "initial"
     }
    },
    "7a8cc711717f4223b7fd860ce0657984": {
     "model_module": "@jupyter-widgets/controls",
     "model_name": "HTMLModel",
     "state": {
      "_dom_classes": [],
      "_model_module": "@jupyter-widgets/controls",
      "_model_module_version": "1.5.0",
      "_model_name": "HTMLModel",
      "_view_count": null,
      "_view_module": "@jupyter-widgets/controls",
      "_view_module_version": "1.5.0",
      "_view_name": "HTMLView",
      "description": "",
      "description_tooltip": null,
      "layout": "IPY_MODEL_d454004be9964b53ae9150736df22c06",
      "placeholder": "​",
      "style": "IPY_MODEL_25562dd651ff4518ba1e8d42ff6a58aa",
      "value": " 50220/50220 [3:07:06&lt;00:00,  4.47it/s]"
     }
    },
    "c6b90ae6c1e447b7bbd981cb24144f40": {
     "model_module": "@jupyter-widgets/base",
     "model_name": "LayoutModel",
     "state": {
      "_model_module": "@jupyter-widgets/base",
      "_model_module_version": "1.2.0",
      "_model_name": "LayoutModel",
      "_view_count": null,
      "_view_module": "@jupyter-widgets/base",
      "_view_module_version": "1.2.0",
      "_view_name": "LayoutView",
      "align_content": null,
      "align_items": null,
      "align_self": null,
      "border": null,
      "bottom": null,
      "display": null,
      "flex": null,
      "flex_flow": null,
      "grid_area": null,
      "grid_auto_columns": null,
      "grid_auto_flow": null,
      "grid_auto_rows": null,
      "grid_column": null,
      "grid_gap": null,
      "grid_row": null,
      "grid_template_areas": null,
      "grid_template_columns": null,
      "grid_template_rows": null,
      "height": null,
      "justify_content": null,
      "justify_items": null,
      "left": null,
      "margin": null,
      "max_height": null,
      "max_width": null,
      "min_height": null,
      "min_width": null,
      "object_fit": null,
      "object_position": null,
      "order": null,
      "overflow": null,
      "overflow_x": null,
      "overflow_y": null,
      "padding": null,
      "right": null,
      "top": null,
      "visibility": null,
      "width": null
     }
    },
    "d454004be9964b53ae9150736df22c06": {
     "model_module": "@jupyter-widgets/base",
     "model_name": "LayoutModel",
     "state": {
      "_model_module": "@jupyter-widgets/base",
      "_model_module_version": "1.2.0",
      "_model_name": "LayoutModel",
      "_view_count": null,
      "_view_module": "@jupyter-widgets/base",
      "_view_module_version": "1.2.0",
      "_view_name": "LayoutView",
      "align_content": null,
      "align_items": null,
      "align_self": null,
      "border": null,
      "bottom": null,
      "display": null,
      "flex": null,
      "flex_flow": null,
      "grid_area": null,
      "grid_auto_columns": null,
      "grid_auto_flow": null,
      "grid_auto_rows": null,
      "grid_column": null,
      "grid_gap": null,
      "grid_row": null,
      "grid_template_areas": null,
      "grid_template_columns": null,
      "grid_template_rows": null,
      "height": null,
      "justify_content": null,
      "justify_items": null,
      "left": null,
      "margin": null,
      "max_height": null,
      "max_width": null,
      "min_height": null,
      "min_width": null,
      "object_fit": null,
      "object_position": null,
      "order": null,
      "overflow": null,
      "overflow_x": null,
      "overflow_y": null,
      "padding": null,
      "right": null,
      "top": null,
      "visibility": null,
      "width": null
     }
    },
    "e36b3826bf1c4e1ca791a50b5e850e98": {
     "model_module": "@jupyter-widgets/controls",
     "model_name": "HBoxModel",
     "state": {
      "_dom_classes": [],
      "_model_module": "@jupyter-widgets/controls",
      "_model_module_version": "1.5.0",
      "_model_name": "HBoxModel",
      "_view_count": null,
      "_view_module": "@jupyter-widgets/controls",
      "_view_module_version": "1.5.0",
      "_view_name": "HBoxView",
      "box_style": "",
      "children": [
       "IPY_MODEL_1eec29bbcca7496e8aff03f91b668bf3",
       "IPY_MODEL_7a8cc711717f4223b7fd860ce0657984"
      ],
      "layout": "IPY_MODEL_1c82bb99588643fcbb136678e8a0f4b1"
     }
    }
   }
  }
 },
 "nbformat": 4,
 "nbformat_minor": 1
}
