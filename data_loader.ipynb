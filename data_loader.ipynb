{
 "cells": [
  {
   "cell_type": "code",
   "execution_count": 3,
   "metadata": {},
   "outputs": [],
   "source": [
    "import os\n",
    "import torch\n",
    "import torchvision.transforms as transforms\n",
    "from torchvision.datasets import ImageFolder\n",
    "import numpy as np\n",
    "import pickle"
   ]
  },
  {
   "cell_type": "code",
   "execution_count": null,
   "metadata": {},
   "outputs": [],
   "source": [
    "use_gpu = torch.cuda.is_available()\n",
    "use_gpu"
   ]
  },
  {
   "cell_type": "code",
   "execution_count": 7,
   "metadata": {},
   "outputs": [],
   "source": [
    "class DataLoader():\n",
    "    def __init__(self, path):\n",
    "        self.root = path\n",
    "        self.dirs = [\"train\", \"test\"]\n",
    "        self.mean_std_path = {x: \"mean_std_value_\" + x + \".pkl\" for x in self.dirs}\n",
    "        self.means = {x: [0,0,0] for x in self.dirs}\n",
    "        self.stdevs = {x: [0,0,0] for x in self.dirs}\n",
    "        \n",
    "        for x in self.dirs:\n",
    "            if not os.path.exists(path + self.mean_std_path[x]):\n",
    "                transform = transforms.Compose([transforms.ToTensor()])\n",
    "                dataset = ImageFolder(path + x, transform)\n",
    "                self.getMeanStd(x, dataset)\n",
    "            with open(self.root + self.mean_std_path[x], \"rb\") as f:\n",
    "                self.means[x] = pickle.load(f)\n",
    "                self.stdevs[x] = pickle.load(f)\n",
    "        \n",
    "        self.transform = {x: transforms.Compose([\n",
    "                                        transforms.ToTensor(),\n",
    "                                        transforms.Normalize(tuple(self.means[x]), tuple(self.stdevs[x]))\n",
    "                                        ]) for x in self.dirs}\n",
    "        self.dataset = {x: ImageFolder(path + x, self.transform[x]) for x in self.dirs}\n",
    "                \n",
    "    def getMeanStd(self, type, dataset):\n",
    "        num = len(dataset)\n",
    "        for data in dataset:\n",
    "            img = data[0]\n",
    "            for i in range(3):\n",
    "                self.means[type][i] += img[i, :, :].mean()\n",
    "                self.stdevs[type][i] += img[i, :, :].std()\n",
    "        \n",
    "        self.means[type] = np.asarray(self.means[type]) / num\n",
    "        self.stdevs[type] = np.asarray(self.stdevs[type]) / num\n",
    "        \n",
    "        print(\"{} : normMean = {}\".format(type, self.means))\n",
    "        print(\"{} : normstdevs = {}\".format(type, self.stdevs))\n",
    "        \n",
    "        with open(self.root + self.mean_std_path[type], \"wb\") as f:\n",
    "            pickle.dump(self.means[type], f)\n",
    "            pickle.dump(self.stdevs[type], f)\n",
    "            print(\"pickle done\")\n",
    "            "
   ]
  },
  {
   "cell_type": "code",
   "execution_count": null,
   "metadata": {},
   "outputs": [],
   "source": []
  }
 ],
 "metadata": {
  "kernelspec": {
   "display_name": "Python 3",
   "language": "python",
   "name": "python3"
  },
  "language_info": {
   "codemirror_mode": {
    "name": "ipython",
    "version": 3
   },
   "file_extension": ".py",
   "mimetype": "text/x-python",
   "name": "python",
   "nbconvert_exporter": "python",
   "pygments_lexer": "ipython3",
   "version": "3.8.5"
  }
 },
 "nbformat": 4,
 "nbformat_minor": 5
}
